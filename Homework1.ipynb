{
 "cells": [
  {
   "cell_type": "markdown",
   "metadata": {},
   "source": [
    "## HOMEWORK 1"
   ]
  },
  {
   "cell_type": "markdown",
   "metadata": {},
   "source": [
    "# 1) How would you define Machine Learning?"
   ]
  },
  {
   "cell_type": "markdown",
   "metadata": {},
   "source": [
    "Machine Learning is the field of study that gives computers the ability to learn without being explicitly programmed."
   ]
  },
  {
   "cell_type": "markdown",
   "metadata": {},
   "source": [
    "# 2) What are the differences between Supervised and Unsupervised Learning?"
   ]
  },
  {
   "cell_type": "markdown",
   "metadata": {},
   "source": [
    "- Supervised learning algorithms are trained using labeled data.\n",
    "- Supervised learning model takes direct feedback to check if it is predicting correct output or not.\n",
    "- Supervised learning model predicts the output.\n",
    "- In supervised learning, input data is provided to the model along with the output.\n",
    "- The goal of supervised learning is to train the model so that it can predict the output when it is given new data.\n",
    "- Supervised learning needs supervision to train the model.\n",
    "- Supervised learning can be used for those cases where we know the input as well as corresponding outputs.\n",
    "- Supervised learning model produces an accurate result.\n",
    "- Supervised learning is not close to true Artificial intelligence as in this, we first train the model for each data, \n",
    "and then only it can predict the correct output."
   ]
  },
  {
   "cell_type": "markdown",
   "metadata": {},
   "source": [
    "- Unsupervised learning algorithms are trained using unlabeled data.\n",
    "- Unsupervised learning model does not take any feedback.\n",
    "- Unsupervised learning model finds the hidden patterns in data.\n",
    "- In unsupervised learning, only input data is provided to the model.\n",
    "- The goal of unsupervised learning is to find the hidden patterns and useful insights from the unknown dataset.\n",
    "- Unsupervised learning does not need any supervision to train the model.\n",
    "- Unsupervised learning can be used for those cases where we have only input data and no corresponding output data.\n",
    "- Unsupervised learning model may give less accurate result as compared to supervised learning.\n",
    "- Unsupervised learning is more close to the true Artificial Intelligence as it learns similarly \n",
    "as a child learns daily routine things by his experiences."
   ]
  },
  {
   "cell_type": "markdown",
   "metadata": {},
   "source": [
    "Examples for Supervised Learning:\n",
    "1. Predicting house prices:we know datas about the houses and the prices of these houses. So, we can predict the new house's price accordint to these examples by machine learning model.\n",
    "2. Is it a cat or dog?: In the computer vision field, deciding that this is a cat image or dog image?\n",
    "3. Prediction of whether: according to many parameters, prediction of wheather condition."
   ]
  },
  {
   "cell_type": "markdown",
   "metadata": {},
   "source": [
    "Examples for Unsupervised Learning:\n",
    "1. Finding customer segments: Clustering the customers according to ages, gender, location etc.\n",
    "2. Reducing the complexity of a problem: Reducing the number of random variables under considerations.\n",
    "3. Genetics: Clustering DNA patterns to analyze evolutionary biology."
   ]
  },
  {
   "cell_type": "markdown",
   "metadata": {},
   "source": [
    "# 3) What are the test and validation set and why would you want to use them?"
   ]
  },
  {
   "cell_type": "markdown",
   "metadata": {},
   "source": [
    "- Test set: A set of examples used only to assess the performance of a fully-specified classifier.\n",
    "- Validation set: A set of examples used to tune the parameters of a classifier."
   ]
  },
  {
   "cell_type": "markdown",
   "metadata": {},
   "source": [
    "The sample of validation dataset used to provide an unbiased evaluation of a model fit on the training dataset while tuning model hyperparameters. The evaluation becomes more biased as skill on the validation dataset is incorporated into the model configuration.The sample of test dataset used to provide an unbiased evaluation of a final model fit on the training dataset."
   ]
  },
  {
   "cell_type": "markdown",
   "metadata": {},
   "source": [
    "# 4) What are the main processing steps? Explain them in detail. Why do we need to prepare our data?"
   ]
  },
  {
   "cell_type": "markdown",
   "metadata": {},
   "source": [
    "- Gathering Data\n",
    "- Preparing the Data\n",
    "- Choosing Models\n",
    "- Training\n",
    "- Evaluation\n",
    "- Hyperparameter Tuning\n",
    "- Prediction"
   ]
  },
  {
   "cell_type": "markdown",
   "metadata": {},
   "source": [
    "- Gathering Data: \n",
    "    - The quantity & quality of your data dictate how accurate our model is\n",
    "    - The outcome of this step is generally a representation of data which we will use for training-\n",
    "    - Using pre-collected data still fits into this step"
   ]
  },
  {
   "cell_type": "markdown",
   "metadata": {},
   "source": [
    "- Preparing the Data:\n",
    "    - Wrangle data and prepare it for training\n",
    "    - Lean that which may require it\n",
    "    - Randomize data, which erases the effects of the particular order in which we collected and/or otherwise prepared our data\n",
    "    - Visualize data to help detect relevant relationships between variables or class imbalances (bias alert!), \n",
    "    or perform other exploratory analysis\n",
    "    - Split into training and evaluation sets"
   ]
  },
  {
   "cell_type": "markdown",
   "metadata": {},
   "source": [
    "- Choosing Models\n",
    "  - Different algorithms are for different tasks; choose the right one"
   ]
  },
  {
   "cell_type": "markdown",
   "metadata": {},
   "source": [
    "- Training\n",
    "     - The goal of training is to answer a question or make a prediction correctly as often as possible\n",
    "     - Each iteration of process is a training step"
   ]
  },
  {
   "cell_type": "markdown",
   "metadata": {},
   "source": [
    "- Evaluation\n",
    "     - Uses some metric or combination of metrics to \"measure\" objective performance of model\n",
    "     - Test the model against previously unseen data\n",
    "     - This unseen data is meant to be somewhat representative of model performance in the real world, but still helps tune the model\n",
    "     - Good train/eval split? 80/20, 70/30, or similar, depending on domain, data availability, dataset particulars, etc.\n",
    "   "
   ]
  },
  {
   "cell_type": "markdown",
   "metadata": {},
   "source": [
    "- Hyperparameter Tuning\n",
    "    - Tune model parameters for improved performance\n",
    "    - Simple model hyperparameters may include: number of training steps, learning rate, initialization values and distribution, etc."
   ]
  },
  {
   "cell_type": "markdown",
   "metadata": {},
   "source": [
    "- Prediction\n",
    "    - Using test set data which have, until this point, been withheld from the model (and for which class labels are known), are used to test the model; a better approximation of how the model will perform in the real world"
   ]
  },
  {
   "cell_type": "markdown",
   "metadata": {},
   "source": [
    "Reasons for preparing the data:\n",
    "1. This is a good time to visualize our data and check if there are correlations between the different characteristics that we obtained. \n",
    "2. It will be necessary to make a selection of characteristics since the ones we choose will directly impact the execution times and the results. we can also reduce dimensions by applying PCA if necessary.\n",
    "3. We must balance the amount of data we have for each result -class- so that it is significant as the learning may be biased towards a type of response and when our model tries to generalize knowledge it will fail.\n",
    "4. We must also separate the data into two groups: one for training and the other for model evaluation which can be divided approximately in a ratio of 70/30 but it can vary depending on the case and the volume of data we have.\n",
    "5. We can also pre-process our data by normalizing, eliminating duplicates, and making error corrections."
   ]
  },
  {
   "cell_type": "markdown",
   "metadata": {},
   "source": [
    "# 5) How can you explore and analyse continuous and discrete variables?"
   ]
  },
  {
   "cell_type": "markdown",
   "metadata": {},
   "source": [
    "To explore continuous and discrete variables:\n",
    "1. Discrete variables are points plotted on a chart and a continuous variable can be plotted as a line.\n",
    "2. Discrete variables are countable in a finite amount of time and continuous Variables would (literally) take forever to count.\n",
    "3. Discrete data involves round, concrete numbers that are determined by counting and continuous data involves complex numbers that are measured across a specific time interval."
   ]
  },
  {
   "cell_type": "markdown",
   "metadata": {},
   "source": [
    "To analyse continuous and discrete variables:\n",
    "1. we should look to find patterns that exist within it.\n",
    "2. we can examine how the shape of the distribution is.\n",
    "3. we must define what the plot type is."
   ]
  },
  {
   "cell_type": "markdown",
   "metadata": {},
   "source": [
    "# 6) Analyse the plot given below. (what is the plot and variable type, check the distribution and make comment about how you can pre-process it)"
   ]
  },
  {
   "attachments": {
    "indir.png": {
     "image/png": "[encoded data removed]"
    }
   },
   "cell_type": "markdown",
   "metadata": {},
   "source": [
    "![indir.png](attachment:indir.png)"
   ]
  },
  {
   "cell_type": "markdown",
   "metadata": {},
   "source": [
    "This plot is a histogram and has continuous type variable. we can pre-process with observing missing data and it can be filled.\n",
    "Also, we can detect whether there is outliers. we can look duplicated values and it can be applied feature scaling."
   ]
  }
 ],
 "metadata": {
  "kernelspec": {
   "display_name": "Python 3",
   "language": "python",
   "name": "python3"
  },
  "language_info": {
   "codemirror_mode": {
    "name": "ipython",
    "version": 3
   },
   "file_extension": ".py",
   "mimetype": "text/x-python",
   "name": "python",
   "nbconvert_exporter": "python",
   "pygments_lexer": "ipython3",
   "version": "3.8.5"
  }
 },
 "nbformat": 4,
 "nbformat_minor": 4
}
