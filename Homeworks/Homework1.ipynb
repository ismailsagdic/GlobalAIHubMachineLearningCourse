{
 "cells": [
  {
   "cell_type": "markdown",
   "metadata": {},
   "source": [
    "## HOMEWORK 1"
   ]
  },
  {
   "cell_type": "markdown",
   "metadata": {},
   "source": [
    "# 1) How would you define Machine Learning?"
   ]
  },
  {
   "cell_type": "markdown",
   "metadata": {},
   "source": [
    "Machine Learning is the field of study that gives computers the ability to learn without being explicitly programmed."
   ]
  },
  {
   "cell_type": "markdown",
   "metadata": {},
   "source": [
    "# 2) What are the differences between Supervised and Unsupervised Learning?"
   ]
  },
  {
   "cell_type": "markdown",
   "metadata": {},
   "source": [
    "- Supervised learning algorithms are trained using labeled data.\n",
    "- Supervised learning model takes direct feedback to check if it is predicting correct output or not.\n",
    "- Supervised learning model predicts the output.\n",
    "- In supervised learning, input data is provided to the model along with the output.\n",
    "- The goal of supervised learning is to train the model so that it can predict the output when it is given new data.\n",
    "- Supervised learning needs supervision to train the model.\n",
    "- Supervised learning can be used for those cases where we know the input as well as corresponding outputs.\n",
    "- Supervised learning model produces an accurate result.\n",
    "- Supervised learning is not close to true Artificial intelligence as in this, we first train the model for each data, \n",
    "and then only it can predict the correct output."
   ]
  },
  {
   "cell_type": "markdown",
   "metadata": {},
   "source": [
    "- Unsupervised learning algorithms are trained using unlabeled data.\n",
    "- Unsupervised learning model does not take any feedback.\n",
    "- Unsupervised learning model finds the hidden patterns in data.\n",
    "- In unsupervised learning, only input data is provided to the model.\n",
    "- The goal of unsupervised learning is to find the hidden patterns and useful insights from the unknown dataset.\n",
    "- Unsupervised learning does not need any supervision to train the model.\n",
    "- Unsupervised learning can be used for those cases where we have only input data and no corresponding output data.\n",
    "- Unsupervised learning model may give less accurate result as compared to supervised learning.\n",
    "- Unsupervised learning is more close to the true Artificial Intelligence as it learns similarly \n",
    "as a child learns daily routine things by his experiences."
   ]
  },
  {
   "cell_type": "markdown",
   "metadata": {},
   "source": [
    "Examples for Supervised Learning:\n",
    "1. Predicting house prices:we know datas about the houses and the prices of these houses. So, we can predict the new house's price accordint to these examples by machine learning model.\n",
    "2. Is it a cat or dog?: In the computer vision field, deciding that this is a cat image or dog image?\n",
    "3. Prediction of whether: according to many parameters, prediction of wheather condition."
   ]
  },
  {
   "cell_type": "markdown",
   "metadata": {},
   "source": [
    "Examples for Unsupervised Learning:\n",
    "1. Finding customer segments: Clustering the customers according to ages, gender, location etc.\n",
    "2. Reducing the complexity of a problem: Reducing the number of random variables under considerations.\n",
    "3. Genetics: Clustering DNA patterns to analyze evolutionary biology."
   ]
  },
  {
   "cell_type": "markdown",
   "metadata": {},
   "source": [
    "# 3) What are the test and validation set and why would you want to use them?"
   ]
  },
  {
   "cell_type": "markdown",
   "metadata": {},
   "source": [
    "- Test set: A set of examples used only to assess the performance of a fully-specified classifier.\n",
    "- Validation set: A set of examples used to tune the parameters of a classifier."
   ]
  },
  {
   "cell_type": "markdown",
   "metadata": {},
   "source": [
    "The sample of validation dataset used to provide an unbiased evaluation of a model fit on the training dataset while tuning model hyperparameters. The evaluation becomes more biased as skill on the validation dataset is incorporated into the model configuration.The sample of test dataset used to provide an unbiased evaluation of a final model fit on the training dataset."
   ]
  },
  {
   "cell_type": "markdown",
   "metadata": {},
   "source": [
    "# 4) What are the main processing steps? Explain them in detail. Why do we need to prepare our data?"
   ]
  },
  {
   "cell_type": "markdown",
   "metadata": {},
   "source": [
    "- Gathering Data\n",
    "- Preparing the Data\n",
    "- Choosing Models\n",
    "- Training\n",
    "- Evaluation\n",
    "- Hyperparameter Tuning\n",
    "- Prediction\n",
    "- Model Selection"
   ]
  },
  {
   "cell_type": "markdown",
   "metadata": {},
   "source": [
    "- Gathring Data: \n",
    "    - The quantity & quality of your data dictate how accurate our model is\n",
    "    - The outcome of this step is generally a representation of data which we will use for training-\n",
    "    - Using pre-collected data still fits into this step"
   ]
  },
  {
   "cell_type": "markdown",
   "metadata": {},
   "source": [
    "- Preparing the Data:\n",
    "    - Wrangle data and prepare it for training\n",
    "    - lean that which may require it\n",
    "    - Randomize data, which erases the effects of the particular order in which we collected and/or otherwise prepared our data\n",
    "    - Visualize data to help detect relevant relationships between variables or class imbalances (bias alert!), \n",
    "    or perform other exploratory analysis\n",
    "    - Split into training and evaluation sets"
   ]
  },
  {
   "cell_type": "code",
   "execution_count": null,
   "metadata": {},
   "outputs": [],
   "source": []
  }
 ],
 "metadata": {
  "kernelspec": {
   "display_name": "Python 3",
   "language": "python",
   "name": "python3"
  },
  "language_info": {
   "codemirror_mode": {
    "name": "ipython",
    "version": 3
   },
   "file_extension": ".py",
   "mimetype": "text/x-python",
   "name": "python",
   "nbconvert_exporter": "python",
   "pygments_lexer": "ipython3",
   "version": "3.8.5"
  }
 },
 "nbformat": 4,
 "nbformat_minor": 4
}
